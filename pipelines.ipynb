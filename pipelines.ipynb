{
 "cells": [
  {
   "cell_type": "markdown",
   "metadata": {},
   "source": [
    "# Links\n",
    "- https://www.kaggle.com/c/crowdflower-search-relevance\n",
    "\n",
    "\n",
    "# Solutions\n",
    "- 1-st place: https://github.com/ChenglongChen/Kaggle_CrowdFlower\n",
    "- 42-th place: https://github.com/marknagelberg/search-relevance/\n",
    "- 107-th place: https://www.kaggle.com/lancerts/crowdflower-search-relevance/combined\n",
    "\n",
    "# Discussions\n",
    "- Александр Дьяконов: https://www.youtube.com/watch?v=kzNJEMR4ltY\n",
    "- CrowdFlower Winner's Interview: 1st place, Chenglong Chen: https://github.com/ChenglongChen/Kaggle_CrowdFlower"
   ]
  },
  {
   "cell_type": "code",
   "execution_count": 2,
   "metadata": {
    "collapsed": true
   },
   "outputs": [],
   "source": [
    "import pandas as pd\n",
    "import numpy as np\n",
    "from functools import partial\n",
    "\n",
    "from sklearn.model_selection import cross_val_score\n",
    "\n",
    "from sklearn.feature_extraction.text import CountVectorizer\n",
    "from sklearn.pipeline import make_pipeline, make_union\n",
    "from sklearn.ensemble import RandomForestRegressor\n",
    "from sklearn.preprocessing import FunctionTransformer\n",
    "\n",
    "from sklearn.tree import DecisionTreeClassifier\n",
    "\n",
    "from nltk.util import ngrams"
   ]
  },
  {
   "cell_type": "code",
   "execution_count": 3,
   "metadata": {
    "collapsed": true
   },
   "outputs": [],
   "source": [
    "%run ds_tools/dstools/ml/metrics.py"
   ]
  },
  {
   "cell_type": "code",
   "execution_count": 4,
   "metadata": {
    "collapsed": true
   },
   "outputs": [],
   "source": [
    "%run ds_tools/dstools/ml/ensemble.py"
   ]
  },
  {
   "cell_type": "code",
   "execution_count": 5,
   "metadata": {},
   "outputs": [
    {
     "name": "stderr",
     "output_type": "stream",
     "text": [
      "/Users/dmitri/anaconda/lib/python2.7/site-packages/sklearn/cross_validation.py:44: DeprecationWarning: This module was deprecated in version 0.18 in favor of the model_selection module into which all the refactored classes and functions are moved. Also note that the interface of the new CV iterators are different from that of this module. This module will be removed in 0.20.\n",
      "  \"This module will be removed in 0.20.\", DeprecationWarning)\n"
     ]
    }
   ],
   "source": [
    "%run ds_tools/dstools/ml/xgboost_tools.py"
   ]
  },
  {
   "cell_type": "code",
   "execution_count": 1,
   "metadata": {
    "collapsed": true
   },
   "outputs": [],
   "source": [
    "def preds_to_rank(preds):\n",
    "    splits = [0, 1.5, 2.5, 3.5, 4.5, 5.5, 6.5, 7.5]\n",
    "    res = np.digitize(preds, splits)\n",
    "    return res"
   ]
  },
  {
   "cell_type": "code",
   "execution_count": 2,
   "metadata": {
    "collapsed": true
   },
   "outputs": [],
   "source": [
    "def same_terms_count(left, right):\n",
    "    return [len(set(l).intersection(set(r))) for l, r in zip(left, right)]\n",
    "\n",
    "\n",
    "def text2ngrams(text):\n",
    "    return [''.join(ng) for ng in ngrams(text, 3)]\n",
    "\n",
    "\n",
    "def query_match(df):\n",
    "    res = pd.DataFrame()\n",
    "\n",
    "    query_ngrams = df['query'].fillna('').map(text2ngrams)\n",
    "    title_ngrams = df.product_title.fillna('').map(text2ngrams)\n",
    "    desc_ngrams = df.product_description.fillna('').map(text2ngrams)\n",
    "\n",
    "    res['query_len'] = query_ngrams.map(len)\n",
    "    res['title_len'] = title_ngrams.map(len)\n",
    "    res['desc_len'] = desc_ngrams.map(len)\n",
    "\n",
    "    res['query_ngrams_in_title'] = same_terms_count(query_ngrams, title_ngrams)\n",
    "    res['query_ngrams_in_desc'] = same_terms_count(query_ngrams, desc_ngrams)\n",
    "\n",
    "    res['ratio_title'] = res['query_ngrams_in_title']/(res['query_len']+.00001)\n",
    "    res['ratio_description'] = res['query_ngrams_in_desc']/(res['query_len']+.00001)\n",
    "\n",
    "    return res"
   ]
  },
  {
   "cell_type": "code",
   "execution_count": 10,
   "metadata": {
    "collapsed": true
   },
   "outputs": [],
   "source": [
    "def cv_test(est):\n",
    "    pd.read_csv('train.csv.gz', index_col='id')\n",
    "\n",
    "    df.fillna({'query': '', 'product_title': '', 'product_description': ''}, inplace=True)\n",
    "\n",
    "    features = df.drop(['median_relevance', 'relevance_variance'], axis=1)\n",
    "    target = df['median_relevance']\n",
    "\n",
    "    scores = cross_val_score(\n",
    "        estimator=est,\n",
    "        X=features,\n",
    "        y=target,\n",
    "        cv=3,\n",
    "        scoring=qwk_score,\n",
    "        n_jobs=1,\n",
    "        verbose=1)\n",
    "    print('mean: {mean}, std: {std}'.format(mean=scores.mean(), std=scores.std()))"
   ]
  },
  {
   "cell_type": "code",
   "execution_count": 11,
   "metadata": {
    "collapsed": true
   },
   "outputs": [],
   "source": [
    "def qwk_score(est, features, labels):\n",
    "    pred = preds_to_rank(est.predict(features))\n",
    "    return quadratic_weighted_kappa(labels, pred)"
   ]
  },
  {
   "cell_type": "code",
   "execution_count": 12,
   "metadata": {
    "collapsed": true
   },
   "outputs": [],
   "source": [
    "def column_transformer(name):\n",
    "    return FunctionTransformer(partial(pd.DataFrame.__getitem__, key=name), validate=False)\n",
    "\n",
    "transf1 = make_union(\n",
    "    make_pipeline(\n",
    "        column_transformer('query'),\n",
    "        CountVectorizer(),\n",
    "    ),\n",
    "    make_pipeline(\n",
    "        column_transformer('product_title'),\n",
    "        CountVectorizer(),\n",
    "    ),\n",
    "    make_pipeline(\n",
    "        column_transformer('product_description'),\n",
    "        CountVectorizer(),\n",
    "    ),\n",
    ")"
   ]
  },
  {
   "cell_type": "code",
   "execution_count": 13,
   "metadata": {
    "collapsed": true
   },
   "outputs": [],
   "source": [
    "# mean: 0.48871016400118511, std: 0.0085599656942586966\n",
    "# cv execution time: 1725.75149703 sec\n",
    "pl1 = make_pipeline(\n",
    "    transf1,\n",
    "    RandomForestRegressor(\n",
    "        n_estimators=200,\n",
    "        n_jobs=2,\n",
    "        min_samples_split=4,\n",
    "        random_state=1,\n",
    "        verbose=1,\n",
    "    )\n",
    ")"
   ]
  },
  {
   "cell_type": "code",
   "execution_count": 14,
   "metadata": {
    "collapsed": true
   },
   "outputs": [],
   "source": [
    "xgb_params = {\n",
    "    \"objective\": \"reg:linear\",\n",
    "    \"eta\": 0.01,\n",
    "    \"min_child_weight\": 6,\n",
    "    \"subsample\": 0.7,\n",
    "    \"colsample_bytree\": 0.7,\n",
    "    \"silent\": 1,\n",
    "    \"max_depth\": 6,\n",
    "    \"num_rounds\": 10000,\n",
    "    \"num_es_rounds\": 120,\n",
    "    \"es_share\": .05,\n",
    "}"
   ]
  },
  {
   "cell_type": "code",
   "execution_count": 15,
   "metadata": {
    "collapsed": true
   },
   "outputs": [],
   "source": [
    "# mean: 0.455176433113, std: 0.00380420601188\n",
    "# cv execution time: 313.007899046 sec\n",
    "pl2 = make_pipeline(\n",
    "    transf1,\n",
    "    XGBoostRegressor(**xgb_params),\n",
    ")"
   ]
  },
  {
   "cell_type": "code",
   "execution_count": 16,
   "metadata": {
    "collapsed": true
   },
   "outputs": [],
   "source": [
    "# mean: 0.501266249762, std: 0.0286023436439\n",
    "# cv execution time: 209.756793976 sec\n",
    "pl3 = make_pipeline(\n",
    "    transf1,\n",
    "    ModelEnsembleRegressor(\n",
    "        intermediate_estimators=[\n",
    "            XGBoostRegressor(**xgb_params),\n",
    "        ],\n",
    "        assembly_estimator=DecisionTreeClassifier(max_depth=2),\n",
    "        ensemble_train_size=1\n",
    "    ),\n",
    ")"
   ]
  },
  {
   "cell_type": "code",
   "execution_count": 17,
   "metadata": {
    "collapsed": true
   },
   "outputs": [],
   "source": [
    "# mean: 0.437250268495, std: 0.0101637687806\n",
    "# cv execution time: 19.1492609978 sec\n",
    "pl4 = make_pipeline(\n",
    "    FunctionTransformer(query_match, validate=False),\n",
    "    RandomForestRegressor(\n",
    "        n_estimators=200,\n",
    "        n_jobs=2,\n",
    "        min_samples_split=4,\n",
    "        random_state=1,\n",
    "        verbose=1,\n",
    "    )\n",
    ")"
   ]
  },
  {
   "cell_type": "code",
   "execution_count": 18,
   "metadata": {
    "collapsed": true
   },
   "outputs": [],
   "source": [
    "# mean: 0.557947182125, std: 0.00811891669329\n",
    "# cv execution time: 1239.4671309 sec\n",
    "pl5 = make_pipeline(\n",
    "    make_union(\n",
    "        FunctionTransformer(query_match, validate=False),\n",
    "        transf1,\n",
    "    ),\n",
    "    RandomForestRegressor(\n",
    "        n_estimators=200,\n",
    "        n_jobs=2,\n",
    "        min_samples_split=4,\n",
    "        random_state=1,\n",
    "        verbose=1,\n",
    "    )\n",
    ")"
   ]
  },
  {
   "cell_type": "code",
   "execution_count": null,
   "metadata": {
    "collapsed": true
   },
   "outputs": [],
   "source": []
  }
 ],
 "metadata": {
  "kernelspec": {
   "display_name": "Python 3",
   "language": "python",
   "name": "python3"
  },
  "language_info": {
   "codemirror_mode": {
    "name": "ipython",
    "version": 3
   },
   "file_extension": ".py",
   "mimetype": "text/x-python",
   "name": "python",
   "nbconvert_exporter": "python",
   "pygments_lexer": "ipython3",
   "version": "3.6.1"
  }
 },
 "nbformat": 4,
 "nbformat_minor": 1
}
